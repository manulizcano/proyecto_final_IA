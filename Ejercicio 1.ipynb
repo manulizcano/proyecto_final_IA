{
 "cells": [
  {
   "cell_type": "markdown",
   "metadata": {},
   "source": [
    "# Importamos las librerías necesarias."
   ]
  },
  {
   "cell_type": "code",
   "execution_count": 1,
   "metadata": {},
   "outputs": [],
   "source": [
    "from scipy import stats\n",
    "import numpy as np\n",
    "import pandas as pd \n",
    "import math\n",
    "import matplotlib.pyplot as plt\n",
    "from random import seed\n",
    "import numpy.polynomial.polynomial as poly\n",
    "from sklearn.linear_model import Lasso \n",
    "from sklearn.linear_model import Ridge\n",
    "from sklearn.linear_model import LinearRegression"
   ]
  },
  {
   "cell_type": "markdown",
   "metadata": {},
   "source": [
    "# Cargamos los datos."
   ]
  },
  {
   "cell_type": "code",
   "execution_count": 2,
   "metadata": {},
   "outputs": [
    {
     "data": {
      "text/html": [
       "<div>\n",
       "<style scoped>\n",
       "    .dataframe tbody tr th:only-of-type {\n",
       "        vertical-align: middle;\n",
       "    }\n",
       "\n",
       "    .dataframe tbody tr th {\n",
       "        vertical-align: top;\n",
       "    }\n",
       "\n",
       "    .dataframe thead th {\n",
       "        text-align: right;\n",
       "    }\n",
       "</style>\n",
       "<table border=\"1\" class=\"dataframe\">\n",
       "  <thead>\n",
       "    <tr style=\"text-align: right;\">\n",
       "      <th></th>\n",
       "      <th>X_training</th>\n",
       "      <th>Y_training</th>\n",
       "      <th>X_test</th>\n",
       "      <th>Y_test</th>\n",
       "    </tr>\n",
       "  </thead>\n",
       "  <tbody>\n",
       "    <tr>\n",
       "      <th>0</th>\n",
       "      <td>-2.00</td>\n",
       "      <td>22.067387</td>\n",
       "      <td>2.00</td>\n",
       "      <td>6.024049</td>\n",
       "    </tr>\n",
       "    <tr>\n",
       "      <th>1</th>\n",
       "      <td>-1.97</td>\n",
       "      <td>19.944915</td>\n",
       "      <td>2.05</td>\n",
       "      <td>6.885408</td>\n",
       "    </tr>\n",
       "    <tr>\n",
       "      <th>2</th>\n",
       "      <td>-1.94</td>\n",
       "      <td>18.062490</td>\n",
       "      <td>2.10</td>\n",
       "      <td>7.578968</td>\n",
       "    </tr>\n",
       "    <tr>\n",
       "      <th>3</th>\n",
       "      <td>-1.91</td>\n",
       "      <td>16.384313</td>\n",
       "      <td>2.15</td>\n",
       "      <td>8.439467</td>\n",
       "    </tr>\n",
       "    <tr>\n",
       "      <th>4</th>\n",
       "      <td>-1.88</td>\n",
       "      <td>14.567798</td>\n",
       "      <td>2.20</td>\n",
       "      <td>9.554611</td>\n",
       "    </tr>\n",
       "    <tr>\n",
       "      <th>...</th>\n",
       "      <td>...</td>\n",
       "      <td>...</td>\n",
       "      <td>...</td>\n",
       "      <td>...</td>\n",
       "    </tr>\n",
       "    <tr>\n",
       "      <th>129</th>\n",
       "      <td>1.87</td>\n",
       "      <td>4.925350</td>\n",
       "      <td>NaN</td>\n",
       "      <td>NaN</td>\n",
       "    </tr>\n",
       "    <tr>\n",
       "      <th>130</th>\n",
       "      <td>1.90</td>\n",
       "      <td>5.064481</td>\n",
       "      <td>NaN</td>\n",
       "      <td>NaN</td>\n",
       "    </tr>\n",
       "    <tr>\n",
       "      <th>131</th>\n",
       "      <td>1.93</td>\n",
       "      <td>5.154600</td>\n",
       "      <td>NaN</td>\n",
       "      <td>NaN</td>\n",
       "    </tr>\n",
       "    <tr>\n",
       "      <th>132</th>\n",
       "      <td>1.96</td>\n",
       "      <td>5.442464</td>\n",
       "      <td>NaN</td>\n",
       "      <td>NaN</td>\n",
       "    </tr>\n",
       "    <tr>\n",
       "      <th>133</th>\n",
       "      <td>1.99</td>\n",
       "      <td>5.888052</td>\n",
       "      <td>NaN</td>\n",
       "      <td>NaN</td>\n",
       "    </tr>\n",
       "  </tbody>\n",
       "</table>\n",
       "<p>134 rows × 4 columns</p>\n",
       "</div>"
      ],
      "text/plain": [
       "     X_training  Y_training  X_test    Y_test\n",
       "0         -2.00   22.067387    2.00  6.024049\n",
       "1         -1.97   19.944915    2.05  6.885408\n",
       "2         -1.94   18.062490    2.10  7.578968\n",
       "3         -1.91   16.384313    2.15  8.439467\n",
       "4         -1.88   14.567798    2.20  9.554611\n",
       "..          ...         ...     ...       ...\n",
       "129        1.87    4.925350     NaN       NaN\n",
       "130        1.90    5.064481     NaN       NaN\n",
       "131        1.93    5.154600     NaN       NaN\n",
       "132        1.96    5.442464     NaN       NaN\n",
       "133        1.99    5.888052     NaN       NaN\n",
       "\n",
       "[134 rows x 4 columns]"
      ]
     },
     "execution_count": 2,
     "metadata": {},
     "output_type": "execute_result"
    }
   ],
   "source": [
    "df = pd.read_csv('problem1.csv')\n",
    "df"
   ]
  },
  {
   "cell_type": "code",
   "execution_count": 3,
   "metadata": {},
   "outputs": [],
   "source": [
    "x = df['X_training']\n",
    "y = df['Y_training']\n",
    "x_test = df['X_test']\n",
    "y_test = df['Y_test']"
   ]
  },
  {
   "cell_type": "markdown",
   "metadata": {},
   "source": [
    "# Visualizamos los datos."
   ]
  },
  {
   "cell_type": "code",
   "execution_count": 4,
   "metadata": {},
   "outputs": [
    {
     "data": {
      "image/png": "[encoded data removed]",
      "text/plain": [
       "<Figure size 432x288 with 1 Axes>"
      ]
     },
     "metadata": {
      "needs_background": "light"
     },
     "output_type": "display_data"
    }
   ],
   "source": [
    "plt.plot(x, y, 'bs', alpha=0.1, label='Datos')\n",
    "plt.legend(loc='best', frameon=False)\n",
    "plt.xlabel('x')\n",
    "plt.ylabel('y')\n",
    "plt.show()"
   ]
  },
  {
   "cell_type": "markdown",
   "metadata": {},
   "source": [
    "# Hacemos un primer ajuste a nuestros datos con un polinomio de grado 9."
   ]
  },
  {
   "cell_type": "code",
   "execution_count": 5,
   "metadata": {},
   "outputs": [
    {
     "data": {
      "text/plain": [
       "array([ 6.00783252e+00,  8.01668632e+00, -6.06204773e+00, -2.94765170e+00,\n",
       "        2.09313341e+00, -6.68155496e-02, -4.20157749e-02,  2.53738852e-02,\n",
       "        5.59556767e-03, -3.10136798e-03])"
      ]
     },
     "execution_count": 5,
     "metadata": {},
     "output_type": "execute_result"
    }
   ],
   "source": [
    "coef = poly.polyfit(x, y, 9,rcond=None,w=None) \n",
    "coef"
   ]
  },
  {
   "cell_type": "markdown",
   "metadata": {},
   "source": [
    "# Visualización para los datos de aprendizaje."
   ]
  },
  {
   "cell_type": "code",
   "execution_count": 6,
   "metadata": {},
   "outputs": [
    {
     "data": {
      "image/png": "[encoded data removed]",
      "text/plain": [
       "<Figure size 432x288 with 1 Axes>"
      ]
     },
     "metadata": {
      "needs_background": "light"
     },
     "output_type": "display_data"
    }
   ],
   "source": [
    "model = poly.Polynomial(coef)\n",
    "model\n",
    "\n",
    "plt.plot(x, y,'bs',alpha=0.2, label='Data')\n",
    "plt.plot(x, model(x),'r', label='f(x)')\n",
    "plt.legend(loc='best', frameon=False)\n",
    "plt.xlabel('x')\n",
    "plt.ylabel('y')\n",
    "plt.show()"
   ]
  },
  {
   "cell_type": "markdown",
   "metadata": {},
   "source": [
    "# Visualización para los datos de testeo."
   ]
  },
  {
   "cell_type": "code",
   "execution_count": 7,
   "metadata": {},
   "outputs": [
    {
     "data": {
      "image/png": "[encoded data removed]",
      "text/plain": [
       "<Figure size 432x288 with 1 Axes>"
      ]
     },
     "metadata": {
      "needs_background": "light"
     },
     "output_type": "display_data"
    }
   ],
   "source": [
    "plt.plot(x_test, y_test,'bs',alpha=0.2, label='Data')\n",
    "plt.plot(x_test, model(x_test),'r', label='f(x)')\n",
    "plt.legend(loc='best', frameon=False)\n",
    "plt.xlabel('x')\n",
    "plt.ylabel('y')\n",
    "plt.show()"
   ]
  },
  {
   "cell_type": "markdown",
   "metadata": {},
   "source": [
    "# Buscamos el grado óptimo del polinomio usando el criterio AIC."
   ]
  },
  {
   "cell_type": "code",
   "execution_count": 8,
   "metadata": {},
   "outputs": [],
   "source": [
    "Pol_Max = 10 # Highest degree polynomial we are going to check.\n",
    "# empty arrays\n",
    "RSSv = [] \n",
    "RSSv = np.zeros(Pol_Max-1)\n",
    "AICv = []\n",
    "AICv = np.zeros(Pol_Max-1)"
   ]
  },
  {
   "cell_type": "code",
   "execution_count": 9,
   "metadata": {},
   "outputs": [],
   "source": [
    "for i in np.arange(0,Pol_Max-1,1):\n",
    "        coef = poly.polyfit(x, y, i+1)\n",
    "        model = poly.Polynomial(coef)\n",
    "        RSSv[i]=0.5*np.sum((y-model(x))**2)\n",
    "        AICv[i]=len(x)*math.log10(RSSv[i]/len(x))+ 2*len(coef)*len(x)/(len(x)-len(coef)-1)"
   ]
  },
  {
   "cell_type": "code",
   "execution_count": 10,
   "metadata": {},
   "outputs": [
    {
     "name": "stderr",
     "output_type": "stream",
     "text": [
      "No handles with labels found to put in legend.\n",
      "No handles with labels found to put in legend.\n"
     ]
    },
    {
     "data": {
      "image/png": "[encoded data removed]",
      "text/plain": [
       "<Figure size 432x288 with 2 Axes>"
      ]
     },
     "metadata": {
      "needs_background": "light"
     },
     "output_type": "display_data"
    }
   ],
   "source": [
    "fig, (ax1, ax2) = plt.subplots(1, 2)\n",
    "ax1.plot(np.arange(0,Pol_Max-1,1)+1, RSSv,'r',alpha=0.3)\n",
    "ax1.set_yscale('log')\n",
    "ax1.legend(loc='best', frameon=False)\n",
    "ax1.set(xlabel='Polynomial Grade', ylabel='RSS')\n",
    "ax1.set(xlim=(0, Pol_Max))\n",
    "ax1.set_title('(a)')\n",
    "# Second #figure\n",
    "fig.tight_layout(pad=5.0)\n",
    "ax2.plot(np.arange(0,Pol_Max-1,1)+1, AICv,'b',alpha=0.3)\n",
    "ax2.set(xlabel='Polynomial Grade', ylabel='RSS')\n",
    "ax2.legend(loc='best', frameon=False)\n",
    "ax2.set(xlabel='Polynomial Grade', ylabel='AIC')\n",
    "ax2.set(xlim=(0, Pol_Max))\n",
    "ax2.set_title('(b)')\n",
    "plt.show()"
   ]
  },
  {
   "cell_type": "code",
   "execution_count": 11,
   "metadata": {},
   "outputs": [
    {
     "data": {
      "text/plain": [
       "4"
      ]
     },
     "execution_count": 11,
     "metadata": {},
     "output_type": "execute_result"
    }
   ],
   "source": [
    "grade = np.argmin(AICv)+1\n",
    "grade"
   ]
  },
  {
   "cell_type": "markdown",
   "metadata": {},
   "source": [
    "# Hacemos el nuevo ajuste de datos con el grado del polinomio óptimo obtenido."
   ]
  },
  {
   "cell_type": "code",
   "execution_count": 12,
   "metadata": {},
   "outputs": [],
   "source": [
    "coef2 = poly.polyfit(x, y, grade)"
   ]
  },
  {
   "cell_type": "code",
   "execution_count": 13,
   "metadata": {},
   "outputs": [
    {
     "data": {
      "text/latex": [
       "$x \\mapsto \\text{6.000059202668215} + \\text{8.029567412979482}\\,x - \\text{5.991414146668378}\\,x^{2} - \\text{3.0086947131582322}\\,x^{3} + \\text{1.9958810906630027}\\,x^{4}$"
      ],
      "text/plain": [
       "Polynomial([ 6.0000592 ,  8.02956741, -5.99141415, -3.00869471,  1.99588109], domain=[-1,  1], window=[-1,  1])"
      ]
     },
     "execution_count": 13,
     "metadata": {},
     "output_type": "execute_result"
    }
   ],
   "source": [
    "model2 = poly.Polynomial(coef2)\n",
    "model2"
   ]
  },
  {
   "cell_type": "code",
   "execution_count": 14,
   "metadata": {},
   "outputs": [
    {
     "data": {
      "image/png": "[encoded data removed]",
      "text/plain": [
       "<Figure size 432x288 with 1 Axes>"
      ]
     },
     "metadata": {
      "needs_background": "light"
     },
     "output_type": "display_data"
    }
   ],
   "source": [
    "plt.plot(x, y,'bs',alpha=0.2, label='Data')\n",
    "plt.plot(x, model2(x),'r', label='f(x)')\n",
    "plt.legend(loc='best', frameon=False)\n",
    "plt.xlabel('x')\n",
    "plt.ylabel('y')\n",
    "plt.show()"
   ]
  },
  {
   "cell_type": "code",
   "execution_count": 15,
   "metadata": {},
   "outputs": [
    {
     "data": {
      "image/png": "[encoded data removed]",
      "text/plain": [
       "<Figure size 432x288 with 1 Axes>"
      ]
     },
     "metadata": {
      "needs_background": "light"
     },
     "output_type": "display_data"
    }
   ],
   "source": [
    "plt.plot(x_test, y_test,'bs',alpha=0.2, label='Data')\n",
    "plt.plot(x_test, model2(x_test),'r', label='f(x)')\n",
    "plt.legend(loc='best', frameon=False)\n",
    "plt.xlabel('x')\n",
    "plt.ylabel('y')\n",
    "plt.show()"
   ]
  },
  {
   "cell_type": "markdown",
   "metadata": {},
   "source": [
    "# Fin del código."
   ]
  },
  {
   "cell_type": "markdown",
   "metadata": {},
   "source": []
  }
 ],
 "metadata": {
  "kernelspec": {
   "display_name": "Python 3",
   "language": "python",
   "name": "python3"
  },
  "language_info": {
   "codemirror_mode": {
    "name": "ipython",
    "version": 3
   },
   "file_extension": ".py",
   "mimetype": "text/x-python",
   "name": "python",
   "nbconvert_exporter": "python",
   "pygments_lexer": "ipython3",
   "version": "3.7.6"
  }
 },
 "nbformat": 4,
 "nbformat_minor": 4
}
